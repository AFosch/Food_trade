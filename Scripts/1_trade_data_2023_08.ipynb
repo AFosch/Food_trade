{
 "cells": [
  {
   "cell_type": "markdown",
   "metadata": {},
   "source": [
    "# Trade data including exports and imports"
   ]
  },
  {
   "cell_type": "code",
   "execution_count": 14,
   "metadata": {},
   "outputs": [],
   "source": [
    "import pandas as pd\n",
    "import numpy as np\n",
    "\n",
    "#import requests\n",
    "import zipfile as zf \n",
    "from pathlib import Path\n",
    "import matplotlib.pyplot as plt"
   ]
  },
  {
   "cell_type": "markdown",
   "metadata": {},
   "source": [
    "### 0. Comment 3 cells below after data is downloaded and unzipped"
   ]
  },
  {
   "cell_type": "code",
   "execution_count": 15,
   "metadata": {},
   "outputs": [
    {
     "data": {
      "text/plain": [
       "'\\nurl=\"http://fenixservices.fao.org/faostat/static/bulkdownloads/Trade_DetailedTradeMatrix_E_All_Data_(Normalized).zip\"\\nr = requests.get(url)\\n#300 MB dowload, slow...\\n\\nfilename = Path(\\'Trade_DetailedTradeMatrix_E_All_Data_(Normalized).zip\\')\\nfilename.write_bytes(r.content) \\n\\nfiles = zf.ZipFile(\\'Trade_DetailedTradeMatrix_E_All_Data_(Normalized).zip\\', \\'r\\')\\nfiles.extractall(\\'\\')\\nfiles.close()\\n'"
      ]
     },
     "execution_count": 15,
     "metadata": {},
     "output_type": "execute_result"
    }
   ],
   "source": [
    "'''\n",
    "url=\"http://fenixservices.fao.org/faostat/static/bulkdownloads/Trade_DetailedTradeMatrix_E_All_Data_(Normalized).zip\"\n",
    "r = requests.get(url)\n",
    "#300 MB dowload, slow...\n",
    "\n",
    "filename = Path('Trade_DetailedTradeMatrix_E_All_Data_(Normalized).zip')\n",
    "filename.write_bytes(r.content) \n",
    "\n",
    "files = zf.ZipFile('Trade_DetailedTradeMatrix_E_All_Data_(Normalized).zip', 'r')\n",
    "files.extractall('')\n",
    "files.close()\n",
    "'''"
   ]
  },
  {
   "cell_type": "markdown",
   "metadata": {},
   "source": [
    "### You can just start here if you download the linked file and unzip it in the Data folder"
   ]
  },
  {
   "cell_type": "code",
   "execution_count": 16,
   "metadata": {},
   "outputs": [],
   "source": [
    "pd_main = pd.read_csv('../../Data/raw_trade/Trade_DetailedTradeMatrix_E_All_Data_(Normalized).csv', sep=',', encoding='latin1')"
   ]
  },
  {
   "cell_type": "code",
   "execution_count": 17,
   "metadata": {},
   "outputs": [
    {
     "name": "stdout",
     "output_type": "stream",
     "text": [
      "[2016 2004 2015 2005 2019 2014 1996 2012 1997 1999 2020 1998 2007 2021\n",
      " 2013 2010 2008 2018 2009 2017 2000 2001 2011 2006 2003 1990 1993 2002\n",
      " 1986 1987 1989 1988 1994 1991 1995 1992]\n",
      "['Afghanistan' 'Albania' 'Algeria' 'Angola' 'Antigua and Barbuda'\n",
      " 'Argentina' 'Armenia' 'Australia' 'Austria' 'Azerbaijan' 'Bahamas'\n",
      " 'Bahrain' 'Bangladesh' 'Barbados' 'Belarus' 'Belgium'\n",
      " 'Belgium-Luxembourg' 'Belize' 'Benin' 'Bhutan'\n",
      " 'Bolivia (Plurinational State of)' 'Bosnia and Herzegovina' 'Botswana'\n",
      " 'Brazil' 'Brunei Darussalam' 'Bulgaria' 'Burkina Faso' 'Burundi'\n",
      " 'Cabo Verde' 'Cambodia' 'Cameroon' 'Canada' 'Central African Republic'\n",
      " 'Chile' 'China, Hong Kong SAR' 'China, Macao SAR' 'China, mainland'\n",
      " 'China, Taiwan Province of' 'Colombia' 'Comoros' 'Congo' 'Cook Islands'\n",
      " 'Costa Rica' \"Côte d'Ivoire\" 'Croatia' 'Cuba' 'Cyprus' 'Czechia'\n",
      " 'Democratic Republic of the Congo' 'Denmark' 'Djibouti' 'Dominica'\n",
      " 'Dominican Republic' 'Ecuador' 'Egypt' 'El Salvador' 'Estonia' 'Eswatini'\n",
      " 'Ethiopia' 'Ethiopia PDR' 'Faroe Islands' 'Fiji' 'Finland' 'France'\n",
      " 'French Guiana' 'French Polynesia' 'Gabon' 'Gambia' 'Georgia' 'Germany'\n",
      " 'Ghana' 'Greece' 'Grenada' 'Guadeloupe' 'Guatemala' 'Guinea' 'Guyana'\n",
      " 'Honduras' 'Hungary' 'Iceland' 'India' 'Indonesia'\n",
      " 'Iran (Islamic Republic of)' 'Ireland' 'Israel' 'Italy' 'Jamaica' 'Japan'\n",
      " 'Jordan' 'Kazakhstan' 'Kenya' 'Kiribati' 'Kuwait' 'Kyrgyzstan'\n",
      " \"Lao People's Democratic Republic\" 'Latvia' 'Lebanon' 'Lesotho' 'Libya'\n",
      " 'Lithuania' 'Luxembourg' 'Madagascar' 'Malawi' 'Malaysia' 'Maldives'\n",
      " 'Mali' 'Malta' 'Martinique' 'Mauritania' 'Mauritius' 'Mexico' 'Mongolia'\n",
      " 'Montenegro' 'Morocco' 'Mozambique' 'Myanmar' 'Namibia' 'Nepal'\n",
      " 'Netherlands (Kingdom of the)' 'New Caledonia' 'New Zealand' 'Nicaragua'\n",
      " 'Niger' 'Nigeria' 'North Macedonia' 'Norway' 'Oman' 'Pakistan'\n",
      " 'Palestine' 'Panama' 'Papua New Guinea' 'Paraguay' 'Peru' 'Philippines'\n",
      " 'Poland' 'Portugal' 'Qatar' 'Republic of Korea' 'Republic of Moldova'\n",
      " 'Réunion' 'Romania' 'Russian Federation' 'Rwanda' 'Saint Kitts and Nevis'\n",
      " 'Saint Lucia' 'Saint Vincent and the Grenadines' 'Samoa'\n",
      " 'Sao Tome and Principe' 'Saudi Arabia' 'Senegal' 'Serbia'\n",
      " 'Serbia and Montenegro' 'Seychelles' 'Sierra Leone' 'Singapore'\n",
      " 'Slovakia' 'Slovenia' 'Solomon Islands' 'South Africa' 'Spain'\n",
      " 'Sri Lanka' 'Sudan (former)' 'Suriname' 'Sweden' 'Switzerland'\n",
      " 'Syrian Arab Republic' 'Tajikistan' 'Thailand' 'Togo' 'Tonga'\n",
      " 'Trinidad and Tobago' 'Tunisia' 'Türkiye' 'Tuvalu' 'Uganda' 'Ukraine'\n",
      " 'United Arab Emirates'\n",
      " 'United Kingdom of Great Britain and Northern Ireland'\n",
      " 'United Republic of Tanzania' 'United States of America' 'Uruguay' 'USSR'\n",
      " 'Vanuatu' 'Venezuela (Bolivarian Republic of)' 'Viet Nam' 'Yemen'\n",
      " 'Yugoslav SFR' 'Zambia' 'Zimbabwe']\n"
     ]
    }
   ],
   "source": [
    "print(pd_main[\"Year Code\"].unique())\n",
    "print(pd_main[\"Reporter Countries\"].unique())\n"
   ]
  },
  {
   "cell_type": "markdown",
   "metadata": {},
   "source": [
    "### OK about flags raised in some data points after reading this http://www.fao.org/3/i3664e/i3664e.pdf"
   ]
  },
  {
   "cell_type": "markdown",
   "metadata": {},
   "source": [
    "Delete rows with same origin and destination, they relate to in-country free trade zones because \"Special trade it also includes imports into and exports from customs warehouses sand free zones or ports. In Special trade goods are recorded when cleared through customs for shome use or for export. Special imports include goods for domestic consumption and withdrawals from bonded warehouses or free zones for purposes of domestic consumption.\n",
    "\n",
    "Special exports comprise exports of goods wholly or partly produced or manufactured in the country, together with exports of \"nationalized\" goods;\" \n",
    "see http://fenixservices.fao.org/faostat/static/documents/T/T_e.pdf "
   ]
  },
  {
   "cell_type": "code",
   "execution_count": 18,
   "metadata": {},
   "outputs": [
    {
     "data": {
      "text/html": [
       "<div>\n",
       "<style scoped>\n",
       "    .dataframe tbody tr th:only-of-type {\n",
       "        vertical-align: middle;\n",
       "    }\n",
       "\n",
       "    .dataframe tbody tr th {\n",
       "        vertical-align: top;\n",
       "    }\n",
       "\n",
       "    .dataframe thead th {\n",
       "        text-align: right;\n",
       "    }\n",
       "</style>\n",
       "<table border=\"1\" class=\"dataframe\">\n",
       "  <thead>\n",
       "    <tr style=\"text-align: right;\">\n",
       "      <th></th>\n",
       "      <th>Reporter Country Code</th>\n",
       "      <th>Reporter Country Code (M49)</th>\n",
       "      <th>Reporter Countries</th>\n",
       "      <th>Partner Country Code</th>\n",
       "      <th>Partner Country Code (M49)</th>\n",
       "      <th>Partner Countries</th>\n",
       "      <th>Item Code</th>\n",
       "      <th>Item Code (CPC)</th>\n",
       "      <th>Item</th>\n",
       "      <th>Element Code</th>\n",
       "      <th>Element</th>\n",
       "      <th>Year Code</th>\n",
       "      <th>Year</th>\n",
       "      <th>Unit</th>\n",
       "      <th>Value</th>\n",
       "      <th>Flag</th>\n",
       "    </tr>\n",
       "  </thead>\n",
       "  <tbody>\n",
       "    <tr>\n",
       "      <th>46807394</th>\n",
       "      <td>150</td>\n",
       "      <td>'528</td>\n",
       "      <td>Netherlands (Kingdom of the)</td>\n",
       "      <td>181</td>\n",
       "      <td>'716</td>\n",
       "      <td>Zimbabwe</td>\n",
       "      <td>564</td>\n",
       "      <td>'24212.02</td>\n",
       "      <td>Wine</td>\n",
       "      <td>5922</td>\n",
       "      <td>Export Value</td>\n",
       "      <td>1988</td>\n",
       "      <td>1988</td>\n",
       "      <td>1000 US$</td>\n",
       "      <td>1.0</td>\n",
       "      <td>A</td>\n",
       "    </tr>\n",
       "    <tr>\n",
       "      <th>46807395</th>\n",
       "      <td>150</td>\n",
       "      <td>'528</td>\n",
       "      <td>Netherlands (Kingdom of the)</td>\n",
       "      <td>181</td>\n",
       "      <td>'716</td>\n",
       "      <td>Zimbabwe</td>\n",
       "      <td>564</td>\n",
       "      <td>'24212.02</td>\n",
       "      <td>Wine</td>\n",
       "      <td>5922</td>\n",
       "      <td>Export Value</td>\n",
       "      <td>1992</td>\n",
       "      <td>1992</td>\n",
       "      <td>1000 US$</td>\n",
       "      <td>8.0</td>\n",
       "      <td>A</td>\n",
       "    </tr>\n",
       "    <tr>\n",
       "      <th>46807396</th>\n",
       "      <td>150</td>\n",
       "      <td>'528</td>\n",
       "      <td>Netherlands (Kingdom of the)</td>\n",
       "      <td>181</td>\n",
       "      <td>'716</td>\n",
       "      <td>Zimbabwe</td>\n",
       "      <td>564</td>\n",
       "      <td>'24212.02</td>\n",
       "      <td>Wine</td>\n",
       "      <td>5922</td>\n",
       "      <td>Export Value</td>\n",
       "      <td>1999</td>\n",
       "      <td>1999</td>\n",
       "      <td>1000 US$</td>\n",
       "      <td>2.0</td>\n",
       "      <td>A</td>\n",
       "    </tr>\n",
       "    <tr>\n",
       "      <th>46807397</th>\n",
       "      <td>150</td>\n",
       "      <td>'528</td>\n",
       "      <td>Netherlands (Kingdom of the)</td>\n",
       "      <td>181</td>\n",
       "      <td>'716</td>\n",
       "      <td>Zimbabwe</td>\n",
       "      <td>564</td>\n",
       "      <td>'24212.02</td>\n",
       "      <td>Wine</td>\n",
       "      <td>5922</td>\n",
       "      <td>Export Value</td>\n",
       "      <td>2004</td>\n",
       "      <td>2004</td>\n",
       "      <td>1000 US$</td>\n",
       "      <td>2.0</td>\n",
       "      <td>A</td>\n",
       "    </tr>\n",
       "    <tr>\n",
       "      <th>46807398</th>\n",
       "      <td>150</td>\n",
       "      <td>'528</td>\n",
       "      <td>Netherlands (Kingdom of the)</td>\n",
       "      <td>181</td>\n",
       "      <td>'716</td>\n",
       "      <td>Zimbabwe</td>\n",
       "      <td>564</td>\n",
       "      <td>'24212.02</td>\n",
       "      <td>Wine</td>\n",
       "      <td>5922</td>\n",
       "      <td>Export Value</td>\n",
       "      <td>2020</td>\n",
       "      <td>2020</td>\n",
       "      <td>1000 US$</td>\n",
       "      <td>14.0</td>\n",
       "      <td>A</td>\n",
       "    </tr>\n",
       "  </tbody>\n",
       "</table>\n",
       "</div>"
      ],
      "text/plain": [
       "          Reporter Country Code Reporter Country Code (M49)  \\\n",
       "46807394                    150                        '528   \n",
       "46807395                    150                        '528   \n",
       "46807396                    150                        '528   \n",
       "46807397                    150                        '528   \n",
       "46807398                    150                        '528   \n",
       "\n",
       "                    Reporter Countries  Partner Country Code  \\\n",
       "46807394  Netherlands (Kingdom of the)                   181   \n",
       "46807395  Netherlands (Kingdom of the)                   181   \n",
       "46807396  Netherlands (Kingdom of the)                   181   \n",
       "46807397  Netherlands (Kingdom of the)                   181   \n",
       "46807398  Netherlands (Kingdom of the)                   181   \n",
       "\n",
       "         Partner Country Code (M49) Partner Countries  Item Code  \\\n",
       "46807394                       '716          Zimbabwe        564   \n",
       "46807395                       '716          Zimbabwe        564   \n",
       "46807396                       '716          Zimbabwe        564   \n",
       "46807397                       '716          Zimbabwe        564   \n",
       "46807398                       '716          Zimbabwe        564   \n",
       "\n",
       "         Item Code (CPC)  Item  Element Code       Element  Year Code  Year  \\\n",
       "46807394       '24212.02  Wine          5922  Export Value       1988  1988   \n",
       "46807395       '24212.02  Wine          5922  Export Value       1992  1992   \n",
       "46807396       '24212.02  Wine          5922  Export Value       1999  1999   \n",
       "46807397       '24212.02  Wine          5922  Export Value       2004  2004   \n",
       "46807398       '24212.02  Wine          5922  Export Value       2020  2020   \n",
       "\n",
       "              Unit  Value Flag  \n",
       "46807394  1000 US$    1.0    A  \n",
       "46807395  1000 US$    8.0    A  \n",
       "46807396  1000 US$    2.0    A  \n",
       "46807397  1000 US$    2.0    A  \n",
       "46807398  1000 US$   14.0    A  "
      ]
     },
     "execution_count": 18,
     "metadata": {},
     "output_type": "execute_result"
    }
   ],
   "source": [
    "pd_main.tail()"
   ]
  },
  {
   "cell_type": "code",
   "execution_count": 19,
   "metadata": {
    "scrolled": true
   },
   "outputs": [
    {
     "data": {
      "text/html": [
       "<div>\n",
       "<style scoped>\n",
       "    .dataframe tbody tr th:only-of-type {\n",
       "        vertical-align: middle;\n",
       "    }\n",
       "\n",
       "    .dataframe tbody tr th {\n",
       "        vertical-align: top;\n",
       "    }\n",
       "\n",
       "    .dataframe thead th {\n",
       "        text-align: right;\n",
       "    }\n",
       "</style>\n",
       "<table border=\"1\" class=\"dataframe\">\n",
       "  <thead>\n",
       "    <tr style=\"text-align: right;\">\n",
       "      <th></th>\n",
       "      <th>Reporter Country Code</th>\n",
       "      <th>Reporter Country Code (M49)</th>\n",
       "      <th>Reporter Countries</th>\n",
       "      <th>Partner Country Code</th>\n",
       "      <th>Partner Country Code (M49)</th>\n",
       "      <th>Partner Countries</th>\n",
       "      <th>Item Code</th>\n",
       "      <th>Item Code (CPC)</th>\n",
       "      <th>Item</th>\n",
       "      <th>Element Code</th>\n",
       "      <th>Element</th>\n",
       "      <th>Year Code</th>\n",
       "      <th>Year</th>\n",
       "      <th>Unit</th>\n",
       "      <th>Value</th>\n",
       "      <th>Flag</th>\n",
       "    </tr>\n",
       "  </thead>\n",
       "  <tbody>\n",
       "    <tr>\n",
       "      <th>43149165</th>\n",
       "      <td>203</td>\n",
       "      <td>'724</td>\n",
       "      <td>Spain</td>\n",
       "      <td>203</td>\n",
       "      <td>'724</td>\n",
       "      <td>Spain</td>\n",
       "      <td>892</td>\n",
       "      <td>'22230.02</td>\n",
       "      <td>Yoghurt, with additives</td>\n",
       "      <td>5922</td>\n",
       "      <td>Export Value</td>\n",
       "      <td>2009</td>\n",
       "      <td>2009</td>\n",
       "      <td>1000 US$</td>\n",
       "      <td>3458.0</td>\n",
       "      <td>A</td>\n",
       "    </tr>\n",
       "    <tr>\n",
       "      <th>43149170</th>\n",
       "      <td>203</td>\n",
       "      <td>'724</td>\n",
       "      <td>Spain</td>\n",
       "      <td>203</td>\n",
       "      <td>'724</td>\n",
       "      <td>Spain</td>\n",
       "      <td>892</td>\n",
       "      <td>'22230.02</td>\n",
       "      <td>Yoghurt, with additives</td>\n",
       "      <td>5922</td>\n",
       "      <td>Export Value</td>\n",
       "      <td>2010</td>\n",
       "      <td>2010</td>\n",
       "      <td>1000 US$</td>\n",
       "      <td>4103.0</td>\n",
       "      <td>A</td>\n",
       "    </tr>\n",
       "    <tr>\n",
       "      <th>43149179</th>\n",
       "      <td>203</td>\n",
       "      <td>'724</td>\n",
       "      <td>Spain</td>\n",
       "      <td>203</td>\n",
       "      <td>'724</td>\n",
       "      <td>Spain</td>\n",
       "      <td>892</td>\n",
       "      <td>'22230.02</td>\n",
       "      <td>Yoghurt, with additives</td>\n",
       "      <td>5922</td>\n",
       "      <td>Export Value</td>\n",
       "      <td>2011</td>\n",
       "      <td>2011</td>\n",
       "      <td>1000 US$</td>\n",
       "      <td>12583.0</td>\n",
       "      <td>A</td>\n",
       "    </tr>\n",
       "    <tr>\n",
       "      <th>43149184</th>\n",
       "      <td>203</td>\n",
       "      <td>'724</td>\n",
       "      <td>Spain</td>\n",
       "      <td>203</td>\n",
       "      <td>'724</td>\n",
       "      <td>Spain</td>\n",
       "      <td>892</td>\n",
       "      <td>'22230.02</td>\n",
       "      <td>Yoghurt, with additives</td>\n",
       "      <td>5922</td>\n",
       "      <td>Export Value</td>\n",
       "      <td>2012</td>\n",
       "      <td>2012</td>\n",
       "      <td>1000 US$</td>\n",
       "      <td>6860.0</td>\n",
       "      <td>A</td>\n",
       "    </tr>\n",
       "    <tr>\n",
       "      <th>43149193</th>\n",
       "      <td>203</td>\n",
       "      <td>'724</td>\n",
       "      <td>Spain</td>\n",
       "      <td>203</td>\n",
       "      <td>'724</td>\n",
       "      <td>Spain</td>\n",
       "      <td>892</td>\n",
       "      <td>'22230.02</td>\n",
       "      <td>Yoghurt, with additives</td>\n",
       "      <td>5922</td>\n",
       "      <td>Export Value</td>\n",
       "      <td>2013</td>\n",
       "      <td>2013</td>\n",
       "      <td>1000 US$</td>\n",
       "      <td>9001.0</td>\n",
       "      <td>A</td>\n",
       "    </tr>\n",
       "  </tbody>\n",
       "</table>\n",
       "</div>"
      ],
      "text/plain": [
       "          Reporter Country Code Reporter Country Code (M49)  \\\n",
       "43149165                    203                        '724   \n",
       "43149170                    203                        '724   \n",
       "43149179                    203                        '724   \n",
       "43149184                    203                        '724   \n",
       "43149193                    203                        '724   \n",
       "\n",
       "         Reporter Countries  Partner Country Code Partner Country Code (M49)  \\\n",
       "43149165              Spain                   203                       '724   \n",
       "43149170              Spain                   203                       '724   \n",
       "43149179              Spain                   203                       '724   \n",
       "43149184              Spain                   203                       '724   \n",
       "43149193              Spain                   203                       '724   \n",
       "\n",
       "         Partner Countries  Item Code Item Code (CPC)  \\\n",
       "43149165             Spain        892       '22230.02   \n",
       "43149170             Spain        892       '22230.02   \n",
       "43149179             Spain        892       '22230.02   \n",
       "43149184             Spain        892       '22230.02   \n",
       "43149193             Spain        892       '22230.02   \n",
       "\n",
       "                             Item  Element Code       Element  Year Code  \\\n",
       "43149165  Yoghurt, with additives          5922  Export Value       2009   \n",
       "43149170  Yoghurt, with additives          5922  Export Value       2010   \n",
       "43149179  Yoghurt, with additives          5922  Export Value       2011   \n",
       "43149184  Yoghurt, with additives          5922  Export Value       2012   \n",
       "43149193  Yoghurt, with additives          5922  Export Value       2013   \n",
       "\n",
       "          Year      Unit    Value Flag  \n",
       "43149165  2009  1000 US$   3458.0    A  \n",
       "43149170  2010  1000 US$   4103.0    A  \n",
       "43149179  2011  1000 US$  12583.0    A  \n",
       "43149184  2012  1000 US$   6860.0    A  \n",
       "43149193  2013  1000 US$   9001.0    A  "
      ]
     },
     "execution_count": 19,
     "metadata": {},
     "output_type": "execute_result"
    }
   ],
   "source": [
    "same_country = pd_main.loc[(pd_main['Reporter Countries'] == pd_main['Partner Countries'])]\n",
    "same_country.tail()"
   ]
  },
  {
   "cell_type": "code",
   "execution_count": 20,
   "metadata": {},
   "outputs": [
    {
     "name": "stdout",
     "output_type": "stream",
     "text": [
      "National-trade instances: 64423\n",
      "International-trade instances: 46742976\n",
      "46807399\n"
     ]
    }
   ],
   "source": [
    "print('National-trade instances:',len(same_country.index))\n",
    "print('International-trade instances:',len(pd_main.index) - len(same_country.index))\n",
    "\n",
    "pd_impexp = pd_main.drop(pd_main[(pd_main['Reporter Countries'] == pd_main['Partner Countries'])].index)\n",
    "\n",
    "print(len(pd_main.index))"
   ]
  },
  {
   "cell_type": "markdown",
   "metadata": {},
   "source": [
    "## 1. Keep useful columns: \n",
    "Remove some unused columns: Flag column and Year Flag column\n"
   ]
  },
  {
   "cell_type": "code",
   "execution_count": 21,
   "metadata": {},
   "outputs": [
    {
     "name": "stdout",
     "output_type": "stream",
     "text": [
      "Data after removal:  46742976\n"
     ]
    }
   ],
   "source": [
    "useful_cols = [\"Reporter Country Code\",\"Reporter Countries\",\"Partner Country Code\",\"Partner Countries\",\"Item\",\"Element\",\"Year\",\"Unit\",\"Value\"]\n",
    "pd_usecol = pd_impexp[useful_cols] \n",
    "print('Data after removal: ',len(pd_impexp.index))"
   ]
  },
  {
   "cell_type": "code",
   "execution_count": 22,
   "metadata": {
    "scrolled": true
   },
   "outputs": [
    {
     "data": {
      "text/html": [
       "<div>\n",
       "<style scoped>\n",
       "    .dataframe tbody tr th:only-of-type {\n",
       "        vertical-align: middle;\n",
       "    }\n",
       "\n",
       "    .dataframe tbody tr th {\n",
       "        vertical-align: top;\n",
       "    }\n",
       "\n",
       "    .dataframe thead th {\n",
       "        text-align: right;\n",
       "    }\n",
       "</style>\n",
       "<table border=\"1\" class=\"dataframe\">\n",
       "  <thead>\n",
       "    <tr style=\"text-align: right;\">\n",
       "      <th></th>\n",
       "      <th>Reporter Country Code</th>\n",
       "      <th>Reporter Countries</th>\n",
       "      <th>Partner Country Code</th>\n",
       "      <th>Partner Countries</th>\n",
       "      <th>Item</th>\n",
       "      <th>Element</th>\n",
       "      <th>Year</th>\n",
       "      <th>Unit</th>\n",
       "      <th>Value</th>\n",
       "    </tr>\n",
       "  </thead>\n",
       "  <tbody>\n",
       "    <tr>\n",
       "      <th>0</th>\n",
       "      <td>2</td>\n",
       "      <td>Afghanistan</td>\n",
       "      <td>4</td>\n",
       "      <td>Algeria</td>\n",
       "      <td>Cashew nuts, shelled</td>\n",
       "      <td>Export Quantity</td>\n",
       "      <td>2016</td>\n",
       "      <td>tonnes</td>\n",
       "      <td>3.0</td>\n",
       "    </tr>\n",
       "    <tr>\n",
       "      <th>1</th>\n",
       "      <td>2</td>\n",
       "      <td>Afghanistan</td>\n",
       "      <td>4</td>\n",
       "      <td>Algeria</td>\n",
       "      <td>Cashew nuts, shelled</td>\n",
       "      <td>Export Value</td>\n",
       "      <td>2016</td>\n",
       "      <td>1000 US$</td>\n",
       "      <td>23.0</td>\n",
       "    </tr>\n",
       "    <tr>\n",
       "      <th>4</th>\n",
       "      <td>2</td>\n",
       "      <td>Afghanistan</td>\n",
       "      <td>4</td>\n",
       "      <td>Algeria</td>\n",
       "      <td>Crude organic material n.e.c.</td>\n",
       "      <td>Export Value</td>\n",
       "      <td>2015</td>\n",
       "      <td>1000 US$</td>\n",
       "      <td>1.0</td>\n",
       "    </tr>\n",
       "    <tr>\n",
       "      <th>5</th>\n",
       "      <td>4</td>\n",
       "      <td>Algeria</td>\n",
       "      <td>2</td>\n",
       "      <td>Afghanistan</td>\n",
       "      <td>Almonds, shelled</td>\n",
       "      <td>Import Quantity</td>\n",
       "      <td>2005</td>\n",
       "      <td>tonnes</td>\n",
       "      <td>3.0</td>\n",
       "    </tr>\n",
       "    <tr>\n",
       "      <th>6</th>\n",
       "      <td>4</td>\n",
       "      <td>Algeria</td>\n",
       "      <td>2</td>\n",
       "      <td>Afghanistan</td>\n",
       "      <td>Almonds, shelled</td>\n",
       "      <td>Import Value</td>\n",
       "      <td>2005</td>\n",
       "      <td>1000 US$</td>\n",
       "      <td>3.0</td>\n",
       "    </tr>\n",
       "  </tbody>\n",
       "</table>\n",
       "</div>"
      ],
      "text/plain": [
       "   Reporter Country Code Reporter Countries  Partner Country Code  \\\n",
       "0                      2        Afghanistan                     4   \n",
       "1                      2        Afghanistan                     4   \n",
       "4                      2        Afghanistan                     4   \n",
       "5                      4            Algeria                     2   \n",
       "6                      4            Algeria                     2   \n",
       "\n",
       "  Partner Countries                           Item          Element  Year  \\\n",
       "0           Algeria           Cashew nuts, shelled  Export Quantity  2016   \n",
       "1           Algeria           Cashew nuts, shelled     Export Value  2016   \n",
       "4           Algeria  Crude organic material n.e.c.     Export Value  2015   \n",
       "5       Afghanistan               Almonds, shelled  Import Quantity  2005   \n",
       "6       Afghanistan               Almonds, shelled     Import Value  2005   \n",
       "\n",
       "       Unit  Value  \n",
       "0    tonnes    3.0  \n",
       "1  1000 US$   23.0  \n",
       "4  1000 US$    1.0  \n",
       "5    tonnes    3.0  \n",
       "6  1000 US$    3.0  "
      ]
     },
     "execution_count": 22,
     "metadata": {},
     "output_type": "execute_result"
    }
   ],
   "source": [
    "pd_usecol.head()"
   ]
  },
  {
   "cell_type": "markdown",
   "metadata": {},
   "source": [
    "# 2. Understand unit and Element\n",
    "**Unit:** can be specified in many different categories, we want to standardise it for the whole dataset so the values can be compared. \\\n",
    "**Element:** \"Import Value / Quantities\" or \"Export Value / Quantities\". \n",
    "\n",
    "Import Quantity / Export Quantity-> tonnes \\\n",
    "Import Value / Export Value -> money ($)"
   ]
  },
  {
   "cell_type": "code",
   "execution_count": 23,
   "metadata": {},
   "outputs": [
    {
     "name": "stdout",
     "output_type": "stream",
     "text": [
      "['tonnes' '1000 US$' '1000 Head' 'Head' 'No']\n",
      "['Export Quantity' 'Export Value' 'Import Quantity' 'Import Value']\n"
     ]
    },
    {
     "data": {
      "text/html": [
       "<div>\n",
       "<style scoped>\n",
       "    .dataframe tbody tr th:only-of-type {\n",
       "        vertical-align: middle;\n",
       "    }\n",
       "\n",
       "    .dataframe tbody tr th {\n",
       "        vertical-align: top;\n",
       "    }\n",
       "\n",
       "    .dataframe thead th {\n",
       "        text-align: right;\n",
       "    }\n",
       "</style>\n",
       "<table border=\"1\" class=\"dataframe\">\n",
       "  <thead>\n",
       "    <tr style=\"text-align: right;\">\n",
       "      <th></th>\n",
       "      <th>Reporter Country Code</th>\n",
       "      <th>Reporter Countries</th>\n",
       "      <th>Partner Country Code</th>\n",
       "      <th>Partner Countries</th>\n",
       "      <th>Item</th>\n",
       "      <th>Element</th>\n",
       "      <th>Year</th>\n",
       "      <th>Unit</th>\n",
       "      <th>Value</th>\n",
       "    </tr>\n",
       "  </thead>\n",
       "  <tbody>\n",
       "    <tr>\n",
       "      <th>0</th>\n",
       "      <td>2</td>\n",
       "      <td>Afghanistan</td>\n",
       "      <td>4</td>\n",
       "      <td>Algeria</td>\n",
       "      <td>Cashew nuts, shelled</td>\n",
       "      <td>Export Quantity</td>\n",
       "      <td>2016</td>\n",
       "      <td>tonnes</td>\n",
       "      <td>3.0</td>\n",
       "    </tr>\n",
       "    <tr>\n",
       "      <th>1</th>\n",
       "      <td>2</td>\n",
       "      <td>Afghanistan</td>\n",
       "      <td>4</td>\n",
       "      <td>Algeria</td>\n",
       "      <td>Cashew nuts, shelled</td>\n",
       "      <td>Export Value</td>\n",
       "      <td>2016</td>\n",
       "      <td>1000 US$</td>\n",
       "      <td>23.0</td>\n",
       "    </tr>\n",
       "    <tr>\n",
       "      <th>4</th>\n",
       "      <td>2</td>\n",
       "      <td>Afghanistan</td>\n",
       "      <td>4</td>\n",
       "      <td>Algeria</td>\n",
       "      <td>Crude organic material n.e.c.</td>\n",
       "      <td>Export Value</td>\n",
       "      <td>2015</td>\n",
       "      <td>1000 US$</td>\n",
       "      <td>1.0</td>\n",
       "    </tr>\n",
       "    <tr>\n",
       "      <th>5</th>\n",
       "      <td>4</td>\n",
       "      <td>Algeria</td>\n",
       "      <td>2</td>\n",
       "      <td>Afghanistan</td>\n",
       "      <td>Almonds, shelled</td>\n",
       "      <td>Import Quantity</td>\n",
       "      <td>2005</td>\n",
       "      <td>tonnes</td>\n",
       "      <td>3.0</td>\n",
       "    </tr>\n",
       "    <tr>\n",
       "      <th>6</th>\n",
       "      <td>4</td>\n",
       "      <td>Algeria</td>\n",
       "      <td>2</td>\n",
       "      <td>Afghanistan</td>\n",
       "      <td>Almonds, shelled</td>\n",
       "      <td>Import Value</td>\n",
       "      <td>2005</td>\n",
       "      <td>1000 US$</td>\n",
       "      <td>3.0</td>\n",
       "    </tr>\n",
       "  </tbody>\n",
       "</table>\n",
       "</div>"
      ],
      "text/plain": [
       "   Reporter Country Code Reporter Countries  Partner Country Code  \\\n",
       "0                      2        Afghanistan                     4   \n",
       "1                      2        Afghanistan                     4   \n",
       "4                      2        Afghanistan                     4   \n",
       "5                      4            Algeria                     2   \n",
       "6                      4            Algeria                     2   \n",
       "\n",
       "  Partner Countries                           Item          Element  Year  \\\n",
       "0           Algeria           Cashew nuts, shelled  Export Quantity  2016   \n",
       "1           Algeria           Cashew nuts, shelled     Export Value  2016   \n",
       "4           Algeria  Crude organic material n.e.c.     Export Value  2015   \n",
       "5       Afghanistan               Almonds, shelled  Import Quantity  2005   \n",
       "6       Afghanistan               Almonds, shelled     Import Value  2005   \n",
       "\n",
       "       Unit  Value  \n",
       "0    tonnes    3.0  \n",
       "1  1000 US$   23.0  \n",
       "4  1000 US$    1.0  \n",
       "5    tonnes    3.0  \n",
       "6  1000 US$    3.0  "
      ]
     },
     "execution_count": 23,
     "metadata": {},
     "output_type": "execute_result"
    }
   ],
   "source": [
    "print(pd_usecol[\"Unit\"].unique())\n",
    "\n",
    "print(pd_usecol[\"Element\"].unique())\n",
    "pd_usecol.head(5)"
   ]
  },
  {
   "cell_type": "code",
   "execution_count": 24,
   "metadata": {
    "scrolled": true
   },
   "outputs": [
    {
     "name": "stdout",
     "output_type": "stream",
     "text": [
      "Import, tonnes, quantity: 11593253\n",
      "Import, 1000US$, quantity: 0\n",
      "Import, 1000US$, value: 11823171\n",
      "Import, tonnes, value: 0\n"
     ]
    }
   ],
   "source": [
    "# Check if element theory holds: \n",
    "\n",
    "imp_exp = 'Import' # 'Export' or 'Import'\n",
    "quantity_tonnes = pd_usecol[(pd_usecol[\"Unit\"] == 'tonnes') & (pd_usecol[\"Element\"] == imp_exp + ' Quantity')] \n",
    "print( imp_exp + ', tonnes, quantity:',len(quantity_tonnes.index))\n",
    "\n",
    "quantity_dollars = pd_usecol[(pd_usecol[\"Unit\"] == '1000 US$') & (pd_usecol[\"Element\"] == imp_exp + ' Quantity')] \n",
    "print( imp_exp + ', 1000US$, quantity:',len(quantity_dollars.index))\n",
    "\n",
    "value_dollars = pd_usecol[(pd_usecol[\"Unit\"] == '1000 US$') & (pd_usecol[\"Element\"] == imp_exp + ' Value')] \n",
    "print( imp_exp + ', 1000US$, value:',len(value_dollars.index))\n",
    "\n",
    "value_tonnes_exp= pd_usecol[(pd_usecol[\"Unit\"] == 'tonnes') & (pd_usecol[\"Element\"] == imp_exp + ' Value')] \n",
    "print( imp_exp + ', tonnes, value:',len(value_tonnes_exp.index))\n"
   ]
  },
  {
   "cell_type": "markdown",
   "metadata": {},
   "source": [
    "Based on the assessment we can Homogenise the Text from Quantity / Value to only indicate \"Import/Export\" (Takes 2 min)"
   ]
  },
  {
   "cell_type": "code",
   "execution_count": 25,
   "metadata": {},
   "outputs": [],
   "source": [
    "#pd_usecol.loc[:,'Element']= pd_usecol.Element.str.split().str[0] "
   ]
  },
  {
   "cell_type": "code",
   "execution_count": 26,
   "metadata": {},
   "outputs": [
    {
     "data": {
      "text/plain": [
       "0           Export Quantity\n",
       "1              Export Value\n",
       "4              Export Value\n",
       "5           Import Quantity\n",
       "6              Import Value\n",
       "                 ...       \n",
       "46807394       Export Value\n",
       "46807395       Export Value\n",
       "46807396       Export Value\n",
       "46807397       Export Value\n",
       "46807398       Export Value\n",
       "Name: Element, Length: 46742976, dtype: object"
      ]
     },
     "execution_count": 26,
     "metadata": {},
     "output_type": "execute_result"
    }
   ],
   "source": [
    "pd_usecol.loc[:,'Element']\n"
   ]
  },
  {
   "cell_type": "markdown",
   "metadata": {},
   "source": [
    "## 3. Units: Keep only tonnes and USD \n",
    "Remove animals counted in units that have no clear translation to weight in tonnes (I tried, but there is no sensible source that provides homogeneous values across world regions). As shown below, it is less than 1% of the data.\n",
    "\n",
    "**Unit values**\n",
    "\n",
    "No= \"Bees\"\\\n",
    "1000 Head= Animals (chicken, birds, ducks, rabbits... geese)\\\n",
    "Head= Animals (goat, cattle, rodents, asses, camel, mule, buffalo)\\\n",
    "tonnes = other products\n"
   ]
  },
  {
   "cell_type": "code",
   "execution_count": 27,
   "metadata": {},
   "outputs": [
    {
     "name": "stdout",
     "output_type": "stream",
     "text": [
      "['tonnes' '1000 US$' '1000 Head' 'Head' 'No']\n",
      "['Bees']\n",
      "['tonnes' '1000 US$']\n",
      "Samples in Tonnes or $: 46742976\n",
      "Percentage of overlapping data 99.40776770396477\n"
     ]
    }
   ],
   "source": [
    "# test\n",
    "print(pd_usecol[\"Unit\"].unique())\n",
    "# test\n",
    "test = pd_usecol[(pd_usecol[\"Unit\"] == \"No\") ]\n",
    "#'1000 Head' 'Head' 'No'\n",
    "print(test[\"Item\"].unique())\n",
    "\n",
    "# Remove animal data: only keep data with unit: 'tonnes'or '1000 US$'.\n",
    "pd_usedata = pd_usecol[(pd_usecol[\"Unit\"] == 'tonnes') | (pd_usecol[\"Unit\"] == '1000 US$')] \n",
    "print(pd_usedata[\"Unit\"].unique())\n",
    "print('Samples in Tonnes or $:',pd_usecol.shape[0])\n",
    "print('Percentage of overlapping data',100*pd_usedata.shape[0]/pd_usecol.shape[0])"
   ]
  },
  {
   "cell_type": "markdown",
   "metadata": {},
   "source": [
    "## 4. Remove Redundant Items\n",
    "FAOSTAT responded via email that \"Rice, paddy (rice milled equivalent)\" is a summation of other included rice trades, and the only aggregated value that would lead to double counting, thus we eliminate it to keep greater detail"
   ]
  },
  {
   "cell_type": "code",
   "execution_count": 28,
   "metadata": {},
   "outputs": [],
   "source": [
    "pd_usedata = pd_usedata[(pd_usedata[\"Item\"] != 'Rice, paddy (rice milled equivalent)') ] "
   ]
  },
  {
   "cell_type": "markdown",
   "metadata": {},
   "source": [
    "## 5. Quality check\n",
    "\n",
    "Below a satisfactory quality check based on the web interface of faostat: http://www.fao.org/faostat/en/#rankings/countries_by_commodity_imports\n",
    "\n",
    "##### Top 20 Country Importers, Import Quantity of Wheat\n",
    "##### 2018\n",
    "\n",
    "\n",
    "Area\n",
    "Item\n",
    "Year\n",
    "Value\n",
    "Unit\n",
    "Flag\n",
    "Flag Description\n",
    "Egypt\tWheat\t2018\t12522275.27\tt\t-\t-\n",
    "Indonesia\tWheat\t2018\t10096298.93\tt\t-\t-\n",
    "Algeria\tWheat\t2018\t8422056.96\tt\t-\t-\n",
    "Italy\tWheat\t2018\t7453326.38\tt\t-\t-\n",
    "Brazil\tWheat\t2018\t6817138.26\tt\t-\t-\n",
    "Philippines\tWheat\t2018\t6690772.39\tt\t-\t-\n",
    "Spain\tWheat\t2018\t6028087.66\tt\t-\t-\n",
    "Türkiye\tWheat\t2018\t5781711.54\tt\t-\t-\n",
    "Japan\tWheat\t2018\t5652192.67\tt\t-\t-\n",
    "Netherlands (Kingdom of the)\tWheat\t2018\t5566984.97\tt\t-\t-\n",
    "Viet Nam\tWheat\t2018\t5318644.73\tt\t-\t-\n",
    "Mexico\tWheat\t2018\t4920401.06\tt\t-\t-\n",
    "Bangladesh\tWheat\t2018\t4839308.1\tt\t-\t-\n"
   ]
  },
  {
   "cell_type": "code",
   "execution_count": 29,
   "metadata": {},
   "outputs": [],
   "source": [
    "year = 2021\n",
    "element= \"Import Quantity\"\n",
    "product = \"Wheat\"\n",
    "\n",
    "wheat = pd_usecol[(pd_usecol[\"Year\"] == year) & (pd_usecol[\"Element\"] == \"Import Quantity\") & (pd_usecol[\"Item\"] == \"Wheat\") ]\n",
    "top_imports = wheat.groupby('Reporter Countries')['Value'].sum().reset_index()\n",
    "top_imports_sorted = top_imports.sort_values(by='Value', ascending=False).reset_index()\n",
    "\n",
    "# Value top \n",
    "wheat_val = pd_usecol[(pd_usecol[\"Year\"] == year) & (pd_usecol[\"Element\"] == \"Import Value\") & (pd_usecol[\"Item\"] == \"Wheat\") ]\n",
    "top_imports_val = wheat_val.groupby('Reporter Countries')['Value'].sum().reset_index()\n",
    "top_imports_sorted_val = top_imports_val.sort_values(by='Value', ascending=False).reset_index()\n"
   ]
  },
  {
   "cell_type": "code",
   "execution_count": 30,
   "metadata": {},
   "outputs": [
    {
     "data": {
      "text/html": [
       "<div>\n",
       "<style scoped>\n",
       "    .dataframe tbody tr th:only-of-type {\n",
       "        vertical-align: middle;\n",
       "    }\n",
       "\n",
       "    .dataframe tbody tr th {\n",
       "        vertical-align: top;\n",
       "    }\n",
       "\n",
       "    .dataframe thead th {\n",
       "        text-align: right;\n",
       "    }\n",
       "</style>\n",
       "<table border=\"1\" class=\"dataframe\">\n",
       "  <thead>\n",
       "    <tr style=\"text-align: right;\">\n",
       "      <th></th>\n",
       "      <th>index</th>\n",
       "      <th>Reporter Countries</th>\n",
       "      <th>Value</th>\n",
       "    </tr>\n",
       "  </thead>\n",
       "  <tbody>\n",
       "    <tr>\n",
       "      <th>0</th>\n",
       "      <td>73</td>\n",
       "      <td>Indonesia</td>\n",
       "      <td>3548356.0</td>\n",
       "    </tr>\n",
       "    <tr>\n",
       "      <th>1</th>\n",
       "      <td>33</td>\n",
       "      <td>China, mainland</td>\n",
       "      <td>3038666.0</td>\n",
       "    </tr>\n",
       "    <tr>\n",
       "      <th>2</th>\n",
       "      <td>155</td>\n",
       "      <td>Türkiye</td>\n",
       "      <td>2692626.0</td>\n",
       "    </tr>\n",
       "    <tr>\n",
       "      <th>3</th>\n",
       "      <td>1</td>\n",
       "      <td>Algeria</td>\n",
       "      <td>2558744.0</td>\n",
       "    </tr>\n",
       "    <tr>\n",
       "      <th>4</th>\n",
       "      <td>77</td>\n",
       "      <td>Italy</td>\n",
       "      <td>2270476.0</td>\n",
       "    </tr>\n",
       "    <tr>\n",
       "      <th>5</th>\n",
       "      <td>49</td>\n",
       "      <td>Egypt</td>\n",
       "      <td>2179948.0</td>\n",
       "    </tr>\n",
       "    <tr>\n",
       "      <th>6</th>\n",
       "      <td>10</td>\n",
       "      <td>Bangladesh</td>\n",
       "      <td>2149529.0</td>\n",
       "    </tr>\n",
       "    <tr>\n",
       "      <th>7</th>\n",
       "      <td>112</td>\n",
       "      <td>Nigeria</td>\n",
       "      <td>2055030.0</td>\n",
       "    </tr>\n",
       "    <tr>\n",
       "      <th>8</th>\n",
       "      <td>122</td>\n",
       "      <td>Philippines</td>\n",
       "      <td>1948671.0</td>\n",
       "    </tr>\n",
       "    <tr>\n",
       "      <th>9</th>\n",
       "      <td>20</td>\n",
       "      <td>Brazil</td>\n",
       "      <td>1850965.0</td>\n",
       "    </tr>\n",
       "  </tbody>\n",
       "</table>\n",
       "</div>"
      ],
      "text/plain": [
       "   index Reporter Countries      Value\n",
       "0     73          Indonesia  3548356.0\n",
       "1     33    China, mainland  3038666.0\n",
       "2    155            Türkiye  2692626.0\n",
       "3      1            Algeria  2558744.0\n",
       "4     77              Italy  2270476.0\n",
       "5     49              Egypt  2179948.0\n",
       "6     10         Bangladesh  2149529.0\n",
       "7    112            Nigeria  2055030.0\n",
       "8    122        Philippines  1948671.0\n",
       "9     20             Brazil  1850965.0"
      ]
     },
     "execution_count": 30,
     "metadata": {},
     "output_type": "execute_result"
    }
   ],
   "source": [
    "top_imports_sorted_val.head(10)"
   ]
  },
  {
   "cell_type": "code",
   "execution_count": 31,
   "metadata": {},
   "outputs": [
    {
     "name": "stderr",
     "output_type": "stream",
     "text": [
      "/tmp/ipykernel_3072016/4233565828.py:5: UserWarning: set_ticklabels() should only be used with a fixed number of ticks, i.e. after set_ticks() or using a FixedLocator.\n",
      "  axs[0].set_xticklabels(top_imports_sorted.loc[0:9,'Reporter Countries'],rotation=50,ha='right')\n",
      "/tmp/ipykernel_3072016/4233565828.py:12: UserWarning: set_ticklabels() should only be used with a fixed number of ticks, i.e. after set_ticks() or using a FixedLocator.\n",
      "  axs[1].set_xticklabels(top_imports_sorted_val.loc[0:9,'Reporter Countries'],rotation=50)\n"
     ]
    },
    {
     "data": {
      "image/png": "[encoded data removed]",
      "text/plain": [
       "<Figure size 1000x500 with 2 Axes>"
      ]
     },
     "metadata": {},
     "output_type": "display_data"
    }
   ],
   "source": [
    "# Plot quantity\n",
    "fig, axs = plt.subplots(1,2,figsize=(10,5))\n",
    "element= \"Import Quantity\"\n",
    "axs[0].bar(top_imports_sorted.loc[0:9,'Reporter Countries'],top_imports_sorted.loc[0:9,'Value']/1e6)\n",
    "axs[0].set_xticklabels(top_imports_sorted.loc[0:9,'Reporter Countries'],rotation=50,ha='right')\n",
    "axs[0].set_title(element +' ' + product + ' '+ str(year) + ' (tonnes)')\n",
    "axs[0].set_ylabel('Million Tonnes')\n",
    "\n",
    "#Plot value \n",
    "element= \"Import Value\"\n",
    "axs[1].bar(top_imports_sorted_val.loc[0:9,'Reporter Countries'],top_imports_sorted_val.loc[0:9,'Value'])\n",
    "axs[1].set_xticklabels(top_imports_sorted_val.loc[0:9,'Reporter Countries'],rotation=50)\n",
    "axs[1].set_title(element +' ' + product + ' '+ str(year) + ' (USD $)')\n",
    "axs[1].set_ylabel('1000 USD$')\n",
    "plt.tight_layout()"
   ]
  },
  {
   "cell_type": "code",
   "execution_count": 32,
   "metadata": {},
   "outputs": [
    {
     "data": {
      "text/plain": [
       "0.0"
      ]
     },
     "execution_count": 32,
     "metadata": {},
     "output_type": "execute_result"
    }
   ],
   "source": [
    "# Non overlap: Sudan for imports in $. \n",
    "\n",
    "# Check if wheat for sudan in 2018 exists in OG data:\n",
    "wheat_og= pd_main[(pd_main[\"Year\"] == year) & (pd_main[\"Element\"] == element) & (pd_main[\"Item\"] == product) & (pd_main[\"Reporter Countries\"] == \"Sudan\")  ]\n",
    "\n",
    "\n",
    "wheat_usecol= pd_usecol[(pd_usecol[\"Year\"] == year) & (pd_usecol[\"Element\"] == element) & (pd_usecol[\"Item\"] == product) & (pd_usecol[\"Reporter Countries\"] == \"South Sudan\")  ]\n",
    "wheat_usecol\n",
    "# Sudan Not found in downloaded data \n",
    "# Iran Wheat 2021 not found in downloaded data \n",
    "wheat_usecol.Value.sum()"
   ]
  },
  {
   "cell_type": "code",
   "execution_count": 35,
   "metadata": {},
   "outputs": [],
   "source": [
    "pd_usedata.to_csv('../../Data/Trade_filtered.csv',encoding = 'utf-8') #save data \n"
   ]
  },
  {
   "cell_type": "markdown",
   "metadata": {},
   "source": []
  },
  {
   "cell_type": "markdown",
   "metadata": {},
   "source": [
    "## 6. Reconciliation\n",
    "**We have to take into account the following:**\n",
    "\n",
    "\"In the construction of trade matrices, one should consider that the same trade flow can be reported twice in the FAOSTAT database, once by the exporting country and once by the importing country. When a trade flow is reported by only one of the two countries, the reported flow is used to construct the matrix (single record); this is the case for 40 % of records in the database. All other records are “double” (reported twice) and require a comparison between the declarations of the exporting and the importing countries, which are usually different, with a mean (absolute) relative difference, across all goods, countries, and years, of 61%. The choice of a value from two double records is called “reconciliation”, and the method adopted here is based on the identification of the most reliable reporting country among the two involved in each flow, and the use of the flow being reported by it. The reliability of countries is measured per commodity and per year with a data-based approach detailed below and adapted from Gehlhar (1996).\" Source: https://doi.org/10.5194/essd-13-2025-2021 (they also provide guidance on country changes at the end of the supplementary material, see \"Associations\" at https://essd.copernicus.org/preprints/essd-2020-226/essd-2020-226-supplement.pdf)\n",
    "\n",
    "\n",
    "The team behind the paper above computes a country reliability formula and selects which source of information to keep for duplicated entries (when both countries report the flow)\n",
    "\n",
    "\n",
    "**This index is easier to apply in R, hence I move from here to R Studio.**\n",
    "\n"
   ]
  },
  {
   "cell_type": "markdown",
   "metadata": {},
   "source": []
  }
 ],
 "metadata": {
  "kernelspec": {
   "display_name": "Python 3",
   "language": "python",
   "name": "python3"
  },
  "language_info": {
   "codemirror_mode": {
    "name": "ipython",
    "version": 3
   },
   "file_extension": ".py",
   "mimetype": "text/x-python",
   "name": "python",
   "nbconvert_exporter": "python",
   "pygments_lexer": "ipython3",
   "version": "3.12.0"
  }
 },
 "nbformat": 4,
 "nbformat_minor": 2
}
