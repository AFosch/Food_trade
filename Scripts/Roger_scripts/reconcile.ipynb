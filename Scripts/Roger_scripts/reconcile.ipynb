{
 "cells": [
  {
   "cell_type": "markdown",
   "metadata": {},
   "source": [
    "# Implement reconciliation"
   ]
  },
  {
   "cell_type": "code",
   "execution_count": null,
   "metadata": {},
   "outputs": [],
   "source": [
    "import pandas as pd\n",
    "import numpy as np\n",
    "import janitor"
   ]
  },
  {
   "cell_type": "code",
   "execution_count": null,
   "metadata": {},
   "outputs": [],
   "source": [
    "data = pd.read_csv('../../Data/Trade_filtered.csv', sep=',', encoding='latin1',index_col=0)\n",
    "data = data.clean_names()\n",
    "data.head(10)"
   ]
  },
  {
   "cell_type": "code",
   "execution_count": null,
   "metadata": {},
   "outputs": [],
   "source": [
    "to_add = data.loc[:,['reporter_country_code','reporter_countries','partner_country_code','partner_countries']]\n",
    "to_add.columns = ['origin_country_code','origin_country','destin_country_code','destin_country']\n",
    "data=data.join(to_add)\n",
    "\n",
    "col_data = data.columns # save columns for later"
   ]
  },
  {
   "cell_type": "markdown",
   "metadata": {},
   "source": [
    "### Reconciliation\n",
    "Find repeated instances of code."
   ]
  },
  {
   "cell_type": "code",
   "execution_count": null,
   "metadata": {},
   "outputs": [],
   "source": [
    "def f(x):#wrong\n",
    "    return sum(data.loc[x.index,'equal_reports']>1)/sum(data.loc[x.index,'double_reports']>1)\n",
    "\n",
    "data['double_reports']= data.groupby([\"origin_country\",'destin_country',\"year\",'item','unit'], group_keys=False)[\"value\"].transform('count')\n",
    "data['equal_reports']= data.groupby([\"origin_country\",'destin_country',\"year\",'item','unit'], group_keys=False)[\"value\"].transform('count')\n",
    "#data['quality_reports']= data.groupby([\"reporting_countries\",\"year\",'item','unit'], group_keys=False)[\"value\"].transform(f)\n",
    "\n",
    "#data['report_quality']= data.groupby([\"report_country\",\"year\",'item','unit'], group_keys=False)[\"value\"].transform(f)"
   ]
  },
  {
   "cell_type": "markdown",
   "metadata": {},
   "source": []
  },
  {
   "cell_type": "code",
   "execution_count": null,
   "metadata": {},
   "outputs": [],
   "source": [
    "data"
   ]
  },
  {
   "cell_type": "code",
   "execution_count": null,
   "metadata": {},
   "outputs": [],
   "source": []
  }
 ],
 "metadata": {
  "kernelspec": {
   "display_name": "trade",
   "language": "python",
   "name": "python3"
  },
  "language_info": {
   "codemirror_mode": {
    "name": "ipython",
    "version": 3
   },
   "file_extension": ".py",
   "mimetype": "text/x-python",
   "name": "python",
   "nbconvert_exporter": "python",
   "pygments_lexer": "ipython3",
   "version": "3.9.0"
  }
 },
 "nbformat": 4,
 "nbformat_minor": 2
}
