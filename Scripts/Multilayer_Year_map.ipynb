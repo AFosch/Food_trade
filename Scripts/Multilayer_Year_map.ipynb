{
 "cells": [
  {
   "cell_type": "markdown",
   "metadata": {},
   "source": [
    "# Create multliayer Food groups \n",
    "It is a copy of Multilayer food_groups.ipynb but that I am going to mess-up to tranform into a code that I can apply to make trajectories of a country across the years"
   ]
  },
  {
   "cell_type": "code",
   "execution_count": 1,
   "metadata": {},
   "outputs": [],
   "source": [
    "import pandas as pd\n",
    "import numpy as np\n",
    "import time\n",
    "import networkx as nx\n",
    "import geopandas as gpd # pip installed\n",
    "import matplotlib.pyplot as plt \n",
    "import pickle"
   ]
  },
  {
   "cell_type": "code",
   "execution_count": 2,
   "metadata": {},
   "outputs": [
    {
     "data": {
      "text/plain": [
       "\"\\ndef Country_map (dict_results,country, axis):\\n\\n    year_list = list(dict_results.keys())\\n    print(year_list)\\n    coords = pd.DataFrame()\\n    for y in year_list:\\n        to_add= dict_results[y].loc[(dict_results[y]['country']==country),('pc_w_out','z_out_overl')] \\n        coords = pd.concat([coords,to_add])\\n    coords.index = year_list\\n\\n    # Plot \\n    #axis.scatter(coords.pc_w_out, coords.z_out_overl,zorder = 2,label= coords.index)\\n    axis.plot(coords.pc_w_out, coords.z_out_overl,zorder = 2,label= coords.index)\\n    axis.scatter(coords.pc_w_out.iloc[0], coords.z_out_overl.iloc[0],zorder = 2,label= coords.index[0],color = 'black')\\n    axis.scatter(coords.pc_w_out.iloc[-1], coords.z_out_overl.iloc[-1],zorder = 2,label= coords.index[-1],color = 'red')\\n    axis.set_ylim(bottom=0)\\n    plt.show()\\n    return coords\\n\""
      ]
     },
     "execution_count": 2,
     "metadata": {},
     "output_type": "execute_result"
    }
   ],
   "source": [
    "def Edge_overlap_w(data,weight):\n",
    "    \"\"\"Calculate the weighted edge overlap for each 'origin_country_ISO' in a DataFrame.\n",
    "\n",
    "    In weighted multilayer networks the edge overlap is the sum of all the weights of all out-links in each node.  \n",
    "\n",
    "    Parameters:\n",
    "    - data (pd.DataFrame): Input DataFrame containing at least the 'origin_country_ISO' and 'value' columns.\n",
    "\n",
    "    Returns:\n",
    "    pd.DataFrame: DataFrame with edge overlap calculated for each 'origin_country_ISO'.\n",
    "    The output DataFrame has one column named 'overlap' representing the calculated edge overlap weights.\n",
    "\n",
    "    Example:\n",
    "    >>> df_result = Edge_overlap_w(input_data)\n",
    "    \"\"\"\n",
    "    if weight==True:\n",
    "        overlap_w= data.groupby(['origin_country_ISO']).apply(lambda group : group.value.sum())\n",
    "    else:\n",
    "        overlap_w= data.groupby(['origin_country_ISO']).apply(lambda group : len(group))\n",
    "\n",
    "    overlap_w= pd.DataFrame(overlap_w.sort_values(ascending=False),columns=['o_i'])\n",
    "    return overlap_w\n",
    "\n",
    "def Node_strength_w(data):\n",
    "    \"\"\" Calculate the node relevance in each layer of the multilayer network. \n",
    "    In a weighted directed network the country strenght is the sum of the magnitude exported by that country in that layer.\n",
    "\n",
    "    Parameters:\n",
    "    - data (pd.DataFrame): Input DataFrame containing trade data for a single year. The dataframe must contain \n",
    "    the columns: 'item', 'unit', 'origin_country_ISO', and 'value'.\n",
    "\n",
    "    Returns:\n",
    "    pd.DataFrame: DataFrame with country strength for each combination of 'item' and 'unit', sorted from highest to lowest. \n",
    "    Columns include 'Food_group', 'unit', 'origin_country_ISO', and the calculated 'value' for node strength.\n",
    "\n",
    "    Example:\n",
    "    >>> df_result = Node_strength_w(input_data)\n",
    "    \"\"\"\n",
    "\n",
    "    str_i_l = data.groupby(['Food_group','unit']).apply(lambda group: group.loc[:,['origin_country_ISO','value']].\n",
    "                                                        pivot_table(index='origin_country_ISO', aggfunc='sum').\n",
    "                                                        sort_values(by = 'value',ascending=False))\n",
    "    # Reset multi-index:\n",
    "    strength_i_l= str_i_l.reset_index(level=['Food_group','unit','origin_country_ISO']).rename(columns={'value':'str_i_l'})\n",
    "\n",
    "    return strength_i_l\n",
    "    \n",
    "def Node_strength(data, weight = True):\n",
    "    \"\"\" Calculate the node relevance in each layer of the multilayer network. \n",
    "    In a weighted directed network the country strenght is the sum of the magnitude exported by that country in that layer.\n",
    "\n",
    "    Parameters:\n",
    "    - data (pd.DataFrame): Input DataFrame containing trade data for a single year. The dataframe must contain \n",
    "    the columns: 'item', 'unit', 'origin_country_ISO', and 'value'.\n",
    "\n",
    "    Returns:\n",
    "    pd.DataFrame: DataFrame with country strength for each combination of 'item' and 'unit', sorted from highest to lowest. \n",
    "    Columns include 'item', 'unit', 'origin_country_ISO', and the calculated 'value' for node strength.\n",
    "\n",
    "    Example:\n",
    "    >>> df_result = Node_strength_w(input_data)\n",
    "    \"\"\"\n",
    "    \n",
    "    if (weight==True):\n",
    "        str_i_l = data.groupby(['item','unit']).apply(lambda group: group.loc[:,['origin_country_ISO','value']].\n",
    "                                                        pivot_table(index='origin_country_ISO', aggfunc='sum').\n",
    "                                                        sort_values(by = 'value',ascending=False))\n",
    "        strength_i_l= str_i_l.reset_index(level=['item','unit','origin_country_ISO']).rename(columns={'value':'str_i_l'})\n",
    "\n",
    "    else:\n",
    "        str_i_l = data.groupby(['item','unit']).apply(lambda group: group.loc[:,['origin_country_ISO','value']].\n",
    "                                                        pivot_table(index='origin_country_ISO', aggfunc=lambda x: len(x.unique())).\n",
    "                                                        sort_values(by = 'value',ascending=False))\n",
    "        strength_i_l= str_i_l.reset_index(level=['item','unit','origin_country_ISO']).rename(columns={'value':'str_i_l'})\n",
    "\n",
    "    return strength_i_l\n",
    "    \n",
    "def Participation_coeff_old (data,overlap):\n",
    "\n",
    "    #Define elements for part_coeff\n",
    "    L = len(data.Food_group.unique())\n",
    "\n",
    "    \n",
    "    s_i_l = Node_strength_w(data)\n",
    "\n",
    "    # Prepare data\n",
    "    data_for_Pc = pd.merge(s_i_l, overlap.loc[:,['country','overl']], left_on= 'origin_country_ISO',right_on='country', how='left')\n",
    "\n",
    "\n",
    "    # Contibution of each layer to total exports\n",
    "    data_for_Pc['sum_layers'] = (data_for_Pc['str_i_l']/data_for_Pc['overl'])**2\n",
    "    \n",
    "    sum_layers= data_for_Pc.groupby(['origin_country_ISO']).apply(lambda group: group.sum_layers.sum())\n",
    "\n",
    "    particip_coeff =  pd.DataFrame((L/(L-1))*(1- sum_layers),columns=['partic_coeff']).sort_values(by='partic_coeff',ascending=False)\n",
    "    return particip_coeff \n",
    "  \n",
    "def Participation_coeff (data, overlap, direction, weight=True):\n",
    "\n",
    "    if (weight == True):\n",
    "        w_f = '_w'\n",
    "        flag_overlap = 'overl'\n",
    "    else:\n",
    "        w_f = ''\n",
    "        flag_overlap = 'deg'\n",
    "\n",
    "    #Define elements for part_coeff\n",
    "    L = len(data.item.unique())\n",
    "    \n",
    "    s_i_l = Node_strength(data,weight)\n",
    "\n",
    "    # Prepare data\n",
    "    #data_for_Pc = pd.merge(s_i_l, o_i, left_on= 'origin_country_ISO',right_index=True, how='left')\n",
    "    data_for_Pc = pd.merge(s_i_l, overlap.loc[:,['country',direction+'_'+flag_overlap]], left_on= 'origin_country_ISO',right_on='country', how='left')\n",
    "\n",
    "    # Contibution of each layer to total exports:\n",
    "    data_for_Pc['sum_layers'] = (data_for_Pc['str_i_l']/data_for_Pc[direction+'_'+flag_overlap])**2\n",
    "    \n",
    "    sum_layers= data_for_Pc.groupby(['origin_country_ISO']).apply(lambda group: group.sum_layers.sum())\n",
    "\n",
    "    particip_coeff = (pd.DataFrame((L/(L-1))*(1- sum_layers),columns=['pc'+w_f+'_'+direction]).\n",
    "                      sort_values(by='pc'+w_f+'_'+direction,ascending=False))\n",
    "    return particip_coeff \n",
    "\n",
    "\n",
    "def Agregated_network (edge_data,node_info, group_class):\n",
    "\n",
    "    # General network \n",
    "    pos_dict = node_info.loc[:,['ISO','pos','name']].set_index('ISO').to_dict(orient='index')\n",
    "    pos_dict\n",
    "\n",
    "    edge_dict =dict(zip(zip(edge_data['origin_country_ISO'], edge_data['destin_country_ISO'], edge_data[group_class]), edge_data['value']))\n",
    "    edge_dict\n",
    "\n",
    "    # Create network\n",
    "    G=nx.MultiDiGraph()\n",
    "\n",
    "    G.add_nodes_from(pos_dict)\n",
    "    nx.set_node_attributes(G,pos_dict)\n",
    "\n",
    "    G.add_edges_from(edge_dict.keys())\n",
    "    nx.set_edge_attributes(G, edge_dict, 'weight')\n",
    "    nx.set_edge_attributes(G, edge_dict.keys(), '<attribute_name>')\n",
    "    return G\n",
    "        \n",
    "\n",
    "def Make_dict_years (data_in, year_check):\n",
    "    \"\"\" \n",
    "    Iterate everything to filter data per year, get network and network stats. \n",
    "    The output should be a the dataframe with the value of overlap and zscore for each country the year being explored. \n",
    "\n",
    "    This will be saved in a dictionary. \n",
    "    \"\"\"\n",
    "    print(year_check)\n",
    "    # Load data \n",
    "    data_filt = data_in.loc[(data_in.unit =='1000 US$') & (data_in.year == year_check) & (data_in.value > 0) ,:].copy()\n",
    "\n",
    "    # Create agregated multilayer network \n",
    "    G = Agregated_network(data_filt, country_metadata, group_class = group_class)\n",
    "    \n",
    "    # Degree estimations\n",
    "    out_degree= pd.DataFrame([i for i in G.out_degree()],columns=['country','out_deg']).sort_values(by='out_deg',ascending=False)\n",
    "    in_degree= pd.DataFrame([i for i in G.in_degree()],columns=['country','in_deg']).sort_values(by='in_deg',ascending=False)\n",
    "\n",
    "    # Overlap: sum of weights (out_degree)\n",
    "    overlap= pd.DataFrame([i for i in G.out_degree(weight='weight')],columns=['country','out_overl']).sort_values(by='out_overl',ascending=False)\n",
    "    in_overlap= pd.DataFrame([i for i in G.in_degree(weight='weight')],columns=['country','in_overl']).sort_values(by='in_overl',ascending=False)\n",
    "\n",
    "    overlap= pd.merge(overlap,in_overlap, on='country', copy=False)\n",
    "    overlap= pd.merge(overlap,out_degree, on='country', copy=False)\n",
    "    overlap= pd.merge(overlap,in_degree, on='country', copy=False)\n",
    "\n",
    "    # Add z score degree and overlap:\n",
    "    overlap['z_'+direction+'_deg'] = (overlap[direction+'_deg'] - overlap[direction+'_deg'].mean())/overlap[direction+'_deg'].std()\n",
    "\n",
    "    overlap['z_'+direction+'_overl'] = (overlap[direction+'_overl'] - overlap[direction+'_overl'].mean()) / overlap[direction+'_overl'].std()\n",
    "\n",
    "    # Participation coefficient: \n",
    "    partic_coeff = Participation_coeff(data_filt, overlap, direction,weight=False)\n",
    "    partic_coeff_w = Participation_coeff(data_filt, overlap, direction,weight=True)\n",
    "    partic_coeff = pd.merge(partic_coeff, partic_coeff_w, left_index=True, right_index=True,how='left')\n",
    "\n",
    "    # Merge participation and degree dataframes:\n",
    "    deg_particip = pd.merge(overlap, partic_coeff, right_index=True, left_on='country',how='left')\n",
    "    # deg_particip = pd.merge(deg_particip, partic_coeff_w, left_on='country',right_index=True,how='left',copy=False)\n",
    "    return deg_particip\n",
    "'''\n",
    "def Country_map (dict_results,country, axis):\n",
    "\n",
    "    year_list = list(dict_results.keys())\n",
    "    print(year_list)\n",
    "    coords = pd.DataFrame()\n",
    "    for y in year_list:\n",
    "        to_add= dict_results[y].loc[(dict_results[y]['country']==country),('pc_w_out','z_out_overl')] \n",
    "        coords = pd.concat([coords,to_add])\n",
    "    coords.index = year_list\n",
    "\n",
    "    # Plot \n",
    "    #axis.scatter(coords.pc_w_out, coords.z_out_overl,zorder = 2,label= coords.index)\n",
    "    axis.plot(coords.pc_w_out, coords.z_out_overl,zorder = 2,label= coords.index)\n",
    "    axis.scatter(coords.pc_w_out.iloc[0], coords.z_out_overl.iloc[0],zorder = 2,label= coords.index[0],color = 'black')\n",
    "    axis.scatter(coords.pc_w_out.iloc[-1], coords.z_out_overl.iloc[-1],zorder = 2,label= coords.index[-1],color = 'red')\n",
    "    axis.set_ylim(bottom=0)\n",
    "    plt.show()\n",
    "    return coords\n",
    "'''"
   ]
  },
  {
   "cell_type": "code",
   "execution_count": 3,
   "metadata": {},
   "outputs": [],
   "source": [
    "#year_check='1986-1988'#2019\n",
    "direction = 'out'\n",
    "group_class = 'item'#'Food_group'\n",
    "data_og = pd.read_pickle('../Data/Data_year_groups_12.pkl')\n",
    "\n",
    "country_metadata = pd.read_pickle('../Data/Country_info.pkl')\n",
    "\n",
    "#data = pd.read_pickle('../Data/Data_food_groups.pkl')\n",
    "\n",
    "#data = data_og.loc[(data_og.unit =='1000 US$') & (data_og.year == year_check) & (data_og.value > 0) ,:]"
   ]
  },
  {
   "cell_type": "code",
   "execution_count": 4,
   "metadata": {},
   "outputs": [
    {
     "name": "stdout",
     "output_type": "stream",
     "text": [
      "1989-1991\n",
      "1989-1991\n"
     ]
    }
   ],
   "source": [
    "# PROVA ALL \n",
    "year_check='1989-1991'\n",
    "print(year_check)\n",
    "\n",
    "# \n",
    "deg_particip_loop = Make_dict_years(data_og.copy(deep=True),'1989-1991')"
   ]
  },
  {
   "cell_type": "code",
   "execution_count": 5,
   "metadata": {},
   "outputs": [
    {
     "name": "stdout",
     "output_type": "stream",
     "text": [
      "2019-2021\n",
      "Out: 0.0 0.9811242056962833\n",
      "Loop: 0.07398217488662642 0.9804754525257393\n"
     ]
    }
   ],
   "source": [
    "#deg_particip_loop = Make_dict_years(data_og,'1989-1991')\n",
    "deg_particip_loop2 = Make_dict_years(data_og.copy(deep=True),'2019-2021')\n",
    "print('Out:', min(deg_particip_loop.pc_w_out), max(deg_particip_loop.pc_w_out))\n",
    "\n",
    "print('Loop:', min(deg_particip_loop2.pc_w_out), max(deg_particip_loop2.pc_w_out))"
   ]
  },
  {
   "cell_type": "code",
   "execution_count": 6,
   "metadata": {},
   "outputs": [
    {
     "name": "stdout",
     "output_type": "stream",
     "text": [
      "2019-2021\n"
     ]
    },
    {
     "data": {
      "text/plain": [
       "0.07398217488662642"
      ]
     },
     "execution_count": 6,
     "metadata": {},
     "output_type": "execute_result"
    }
   ],
   "source": [
    "#partic_coeff.loc['ID',:]\n",
    "\n",
    "min(Make_dict_years(data_og,'2019-2021').pc_w_out)"
   ]
  },
  {
   "cell_type": "markdown",
   "metadata": {},
   "source": [
    "Iterate estimation for all countries and years. It is saved as a dictionary with a single pandas datafarame containing all outputs. "
   ]
  },
  {
   "cell_type": "code",
   "execution_count": 7,
   "metadata": {},
   "outputs": [
    {
     "name": "stdout",
     "output_type": "stream",
     "text": [
      "1986-1988\n",
      "1989-1991\n",
      "1992-1994\n",
      "1995-1997\n",
      "1998-2000\n",
      "2001-2003\n",
      "2004-2006\n",
      "2007-2009\n",
      "2010-2012\n",
      "2013-2015\n",
      "2016-2018\n",
      "2019-2021\n",
      "1986-1988\n",
      "1989-1991\n",
      "1992-1994\n",
      "1995-1997\n",
      "1998-2000\n",
      "2001-2003\n",
      "2004-2006\n",
      "2007-2009\n",
      "2010-2012\n",
      "2013-2015\n",
      "2016-2018\n",
      "2019-2021\n"
     ]
    }
   ],
   "source": [
    "list_years = data_og.year.unique()\n",
    "\n",
    "dict_results = dict()\n",
    "for i in list_years: \n",
    "    dict_aux = Make_dict_years(data_og,i)\n",
    "    dict_results[i] = dict_aux.copy()\n",
    "\n",
    "dict_results = dict((i, Make_dict_years(data_og,i)) for i in list_years)\n",
    "dict_results\n",
    "\n",
    "pickle.dump(dict_results, open('country_overlap_particip.p', 'wb'))\n"
   ]
  },
  {
   "cell_type": "code",
   "execution_count": 8,
   "metadata": {},
   "outputs": [
    {
     "name": "stdout",
     "output_type": "stream",
     "text": [
      "Out: 0.07398217488662642 0.9804754525257393\n",
      "Loop: 0.07398217488662642 0.9804754525257393\n"
     ]
    }
   ],
   "source": [
    "min(dict_results['2019-2021'].pc_w_out)\n",
    "print('Out:', min(dict_results['2019-2021'].pc_w_out),max(dict_results['2019-2021'].pc_w_out))\n",
    "\n",
    "print('Loop:', min(dict_results['2019-2021'].pc_w_out),max(dict_results['2019-2021'].pc_w_out))"
   ]
  },
  {
   "cell_type": "code",
   "execution_count": 12,
   "metadata": {},
   "outputs": [
    {
     "data": {
      "image/png": "[encoded data removed]",
      "text/plain": [
       "<Figure size 600x500 with 1 Axes>"
      ]
     },
     "metadata": {},
     "output_type": "display_data"
    },
    {
     "name": "stdout",
     "output_type": "stream",
     "text": [
      "US\n",
      "{'ES':            pc_w_out  z_out_overl\n",
      "1986-1988  0.966955     1.459515\n",
      "1989-1991  0.966680     1.665722\n",
      "1992-1994  0.969888     1.800410\n",
      "1995-1997  0.973761     2.082585\n",
      "1998-2000  0.974562     2.405608\n",
      "2001-2003  0.975170     2.606743\n",
      "2004-2006  0.974025     2.738490\n",
      "2007-2009  0.976406     2.438465\n",
      "2010-2012  0.978547     2.259784\n",
      "2013-2015  0.978633     2.383123\n",
      "2016-2018  0.978222     2.628861\n",
      "2019-2021  0.979725     2.808006, 'IT':            pc_w_out  z_out_overl\n",
      "1986-1988  0.967630     1.735751\n",
      "1989-1991  0.967372     2.100340\n",
      "1992-1994  0.968619     2.317838\n",
      "1995-1997  0.965436     2.274651\n",
      "1998-2000  0.960326     2.455838\n",
      "2001-2003  0.959035     2.566929\n",
      "2004-2006  0.957171     2.809818\n",
      "2007-2009  0.958387     2.535050\n",
      "2010-2012  0.957552     2.258526\n",
      "2013-2015  0.954957     2.239678\n",
      "2016-2018  0.954911     2.398266\n",
      "2019-2021  0.953485     2.501599, 'US':            pc_w_out  z_out_overl\n",
      "1986-1988  0.929294     9.445270\n",
      "1989-1991  0.931868     8.863564\n",
      "1992-1994  0.952594     8.027305\n",
      "1995-1997  0.945116     8.724807\n",
      "1998-2000  0.960452     8.489289\n",
      "2001-2003  0.955580     8.126393\n",
      "2004-2006  0.954321     6.910432\n",
      "2007-2009  0.944314     7.572133\n",
      "2010-2012  0.943655     7.869022\n",
      "2013-2015  0.949620     7.993429\n",
      "2016-2018  0.948366     7.796858\n",
      "2019-2021  0.947828     7.596718}\n"
     ]
    }
   ],
   "source": [
    "\n",
    "\n",
    "def Country_map (dict_results, country_list, year_list= 'All', plt_flag=True):\n",
    "\n",
    "    # Define start for All flags\n",
    "    if country_list == 'All':\n",
    "        country_list = list(dict_results[list(dict_results.keys())[0]].country)\n",
    "        title_country = 'All countries'\n",
    "    else: \n",
    "        title_country  = country_list\n",
    "    \n",
    "    if year_list == 'All':\n",
    "        year_list = list(dict_results.keys())\n",
    "        title_year  = 'All years'\n",
    "\n",
    "    else: \n",
    "        title_year  = year_list\n",
    "\n",
    "    # Define figure characteristics \n",
    "    if plt_flag == True :\n",
    "        maxY_plot = max([max(dict_results[y].z_out_overl) for y in list_years])\n",
    "        minY_plot = min([min(dict_results[y].z_out_overl) for y in list_years])\n",
    "\n",
    "        fig_phase, ax = plt.subplots(figsize = (6,5))\n",
    "        ax.axvline(x=1/3, color='grey', linestyle= '--', zorder =1)\n",
    "        ax.axvline(x=2/3, color='grey', linestyle= '--', zorder = 1)\n",
    "        ax.axhline(y=2, color='grey', linestyle= '--', zorder = 1)\n",
    "        ax.set_xlim (0,1)\n",
    "        ax.set_xlim (0,1)\n",
    "        ax.set_ylim((minY_plot-1,maxY_plot+1))\n",
    "\n",
    "        #\n",
    "        ax.set_ylabel('Z-score overlap')\n",
    "        ax.set_xlabel('Participation coefficient (p)')\n",
    "        ax.set_title ('Map with weighted overlap: '+ str(title_country)+' & '+ str(title_year))\n",
    "\n",
    "    # Iterate for countries:\n",
    "    coords_dict = dict()\n",
    "\n",
    "    for country in country_list:\n",
    "        coords = pd.DataFrame()\n",
    "        for y in year_list:\n",
    "            to_add = dict_results[y].loc[(dict_results[y]['country']==country),('pc_w_out','z_out_overl')] \n",
    "            coords = pd.concat([coords,to_add])\n",
    "        coords.index = year_list\n",
    "\n",
    "        coords_dict[country] = coords\n",
    "        if (plt_flag ==True):\n",
    "            # Plot \n",
    "            ax.scatter(coords.pc_w_out.iloc[2:-2], coords.z_out_overl.iloc[2:-2],zorder = 2,s=20,label= coords.index)\n",
    "            ax.plot(coords.pc_w_out, coords.z_out_overl,zorder = 2,label= coords.index)\n",
    "            ax.scatter(coords.pc_w_out.iloc[0], coords.z_out_overl.iloc[0],zorder = 2,label= coords.index[0],color = 'black')\n",
    "            ax.scatter(coords.pc_w_out.iloc[-1], coords.z_out_overl.iloc[-1],zorder = 2,label= coords.index[-1],color = 'red')\n",
    "        \n",
    "    plt.show()\n",
    "    print(country)\n",
    "    return coords_dict\n",
    "\n",
    "# Coords dict \n",
    "coords_dict = Country_map(dict_results,country_list='All',year_list='All', plt_flag = True)\n",
    "print(coords_dict)\n",
    "\n",
    "pickle.dump(coords_dict, open('country_coords.p', 'wb'))\n"
   ]
  },
  {
   "cell_type": "code",
   "execution_count": 51,
   "metadata": {},
   "outputs": [
    {
     "name": "stdout",
     "output_type": "stream",
     "text": [
      "in year\n",
      "ES\n",
      "{'ES':            pc_w_out  z_out_overl\n",
      "1986-1988  0.966955     1.459515\n",
      "1989-1991  0.966680     1.665722\n",
      "1992-1994  0.969888     1.800410\n",
      "1995-1997  0.973761     2.082585\n",
      "1998-2000  0.974562     2.405608\n",
      "2001-2003  0.975170     2.606743\n",
      "2004-2006  0.974025     2.738490\n",
      "2007-2009  0.976406     2.438465\n",
      "2010-2012  0.978547     2.259784\n",
      "2013-2015  0.978633     2.383123\n",
      "2016-2018  0.978222     2.628861\n",
      "2019-2021  0.979725     2.808006}\n"
     ]
    }
   ],
   "source": [
    "coords = Country_map(dict_results,country_list=['ES'],year_list='All', plt_flag = True, axis=ax)\n",
    "\n",
    "\n",
    "plt.show()\n",
    "print(coords)"
   ]
  }
 ],
 "metadata": {
  "kernelspec": {
   "display_name": "trade",
   "language": "python",
   "name": "python3"
  },
  "language_info": {
   "codemirror_mode": {
    "name": "ipython",
    "version": 3
   },
   "file_extension": ".py",
   "mimetype": "text/x-python",
   "name": "python",
   "nbconvert_exporter": "python",
   "pygments_lexer": "ipython3",
   "version": "3.9.18"
  }
 },
 "nbformat": 4,
 "nbformat_minor": 2
}
